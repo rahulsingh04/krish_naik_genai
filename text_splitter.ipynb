{
 "cells": [
  {
   "cell_type": "code",
   "execution_count": 3,
   "metadata": {},
   "outputs": [],
   "source": [
    "### Reading A Pdf File \n",
    "\n",
    "from langchain_community.document_loaders import PyPDFLoader\n",
    "loader = PyPDFLoader('sample_pdf.pdf')\n",
    "docs = loader.load()"
   ]
  },
  {
   "cell_type": "code",
   "execution_count": 4,
   "metadata": {},
   "outputs": [
    {
     "data": {
      "text/plain": [
       "Document(metadata={'source': 'sample_pdf.pdf', 'page': 0}, page_content='Your Company\\n123 Your Street \\nYour City, ST 12345 \\n(123) 456 - 7890\\nProduct Brochure\\nSeptember 04, 20XX\\nProduct Ov erview\\nLorem ipsum dolor sit amet, consectetuer adipiscing elit, sed diam nonummy nibh euismod\\ntincidunt ut laoreet dolore magna aliquam erat volutpat. Ut wisi enim ad minim veniam, quis\\nnostrud exerci tation ullamcorper suscipit lobortis nisl ut aliquip ex ea commodo consequat.\\nLorem ipsum\\nNam liber tempor cum soluta nobis eleifend option\\ncongue nihil imperdiet doming id quod mazim\\nplacerat facer possim assum. Typi non habent\\nclaritatem insitam; est usus legentis in iis qui facit\\neorum claritatem.\\nLorem ipsum\\nDuis autem vel eum iriure dolor in hendrerit in\\nvulputate velit esse molestie consequat, vel illum\\ndolore eu feugiat nulla facilisis at vero eros et\\naccumsan.\\nDolor sit\\nLorem ipsum dolor sit amet, consectetuer adipiscing elit, sed diam nonummy nibh euismod\\ntincidunt ut laoreet dolore magna aliquam erat volutpat. Ut wisi enim ad minim veniam, quis\\nnostrud exerci tation ullamcorper suscipit lobortis nisl ut aliquip ex ea commodo consequat.\\n')"
      ]
     },
     "execution_count": 4,
     "metadata": {},
     "output_type": "execute_result"
    }
   ],
   "source": [
    "docs[0]"
   ]
  },
  {
   "cell_type": "markdown",
   "metadata": {},
   "source": [
    "### How To Recursively Split Text By Characters "
   ]
  },
  {
   "cell_type": "code",
   "execution_count": 7,
   "metadata": {},
   "outputs": [],
   "source": [
    "from langchain_text_splitters import RecursiveCharacterTextSplitter\n",
    "text_splitter = RecursiveCharacterTextSplitter(chunk_size = 300, chunk_overlap = 200)\n",
    "final_documnent = text_splitter.create_documents(docs) ##is useful in text file to convert in document format  \n",
    "final_documnent = text_splitter.split_documents(docs)"
   ]
  },
  {
   "cell_type": "code",
   "execution_count": 11,
   "metadata": {},
   "outputs": [
    {
     "data": {
      "text/plain": [
       "langchain_core.documents.base.Document"
      ]
     },
     "execution_count": 11,
     "metadata": {},
     "output_type": "execute_result"
    }
   ],
   "source": [
    "type(docs[0])"
   ]
  },
  {
   "cell_type": "code",
   "execution_count": 16,
   "metadata": {},
   "outputs": [],
   "source": [
    "## Text Loader\n",
    "from langchain_community.document_loaders import TextLoader\n",
    "loader = TextLoader(r'C:\\vs_code\\Genai\\bctech2011.txt')\n",
    "document = loader.load()"
   ]
  },
  {
   "cell_type": "code",
   "execution_count": 17,
   "metadata": {},
   "outputs": [
    {
     "data": {
      "text/plain": [
       "list"
      ]
     },
     "execution_count": 17,
     "metadata": {},
     "output_type": "execute_result"
    }
   ],
   "source": [
    "type(document)"
   ]
  },
  {
   "cell_type": "code",
   "execution_count": 24,
   "metadata": {},
   "outputs": [
    {
     "name": "stdout",
     "output_type": "stream",
     "text": [
      "page_content='Title: ML and AI-based insurance premium model to predict premium to be charged by the insurance' metadata={'source': 'C:\\\\vs_code\\\\Genai\\\\bctech2011.txt'}\n",
      "page_content='be charged by the insurance company - Blackcoffer Insights' metadata={'source': 'C:\\\\vs_code\\\\Genai\\\\bctech2011.txt'}\n"
     ]
    }
   ],
   "source": [
    "text_splitter = RecursiveCharacterTextSplitter(chunk_size = 100 , chunk_overlap = 30)\n",
    "final_documents = text_splitter.split_documents(document)\n",
    "print(final_documents[0])\n",
    "print(final_documents[1])"
   ]
  },
  {
   "cell_type": "markdown",
   "metadata": {},
   "source": [
    "#### Another Way "
   ]
  },
  {
   "cell_type": "code",
   "execution_count": 33,
   "metadata": {},
   "outputs": [],
   "source": [
    "text_file = \"\"\n",
    "with open(r\"C:\\vs_code\\Genai\\bctech2011.txt\") as f:\n",
    "    text_file = f.read()\n",
    "\n",
    "# print(text)  This will return text file in the form of the string \n",
    "text_splitter = RecursiveCharacterTextSplitter(chunk_size = 100 , chunk_overlap = 30)\n",
    "text = text_splitter.create_documents([text_file])"
   ]
  },
  {
   "cell_type": "code",
   "execution_count": 35,
   "metadata": {},
   "outputs": [
    {
     "name": "stdout",
     "output_type": "stream",
     "text": [
      "page_content='Title: ML and AI-based insurance premium model to predict premium to be charged by the insurance'\n",
      "page_content='be charged by the insurance company - Blackcoffer Insights'\n"
     ]
    }
   ],
   "source": [
    "print(text[0])\n",
    "print(text[1])"
   ]
  },
  {
   "cell_type": "code",
   "execution_count": null,
   "metadata": {},
   "outputs": [],
   "source": []
  }
 ],
 "metadata": {
  "kernelspec": {
   "display_name": "Python 3",
   "language": "python",
   "name": "python3"
  },
  "language_info": {
   "codemirror_mode": {
    "name": "ipython",
    "version": 3
   },
   "file_extension": ".py",
   "mimetype": "text/x-python",
   "name": "python",
   "nbconvert_exporter": "python",
   "pygments_lexer": "ipython3",
   "version": "3.10.0"
  }
 },
 "nbformat": 4,
 "nbformat_minor": 2
}
